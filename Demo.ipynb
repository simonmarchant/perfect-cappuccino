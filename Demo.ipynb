{
 "cells": [
  {
   "cell_type": "raw",
   "metadata": {},
   "source": [
    "<!--Hide/show code on github: from https://chris-said.io/2016/02/13/how-to-make-polished-jupyter-presentations-with-optional-code-visibility/-->\n",
    "<script>\n",
    "  function code_toggle() {\n",
    "    if (code_shown){\n",
    "      $('div.input').hide('500');\n",
    "      $('#toggleButton').val('Show Code')\n",
    "    } else {\n",
    "      $('div.input').show('500');\n",
    "      $('#toggleButton').val('Hide Code')\n",
    "    }\n",
    "    code_shown = !code_shown\n",
    "  }\n",
    "\n",
    "  $( document ).ready(function(){\n",
    "    code_shown=false;\n",
    "    $('div.input').hide()\n",
    "  });\n",
    "</script>\n",
    "<form action=\"javascript:code_toggle()\"><input type=\"submit\" id=\"toggleButton\" value=\"Show Code\"></form>"
   ]
  },
  {
   "attachments": {},
   "cell_type": "markdown",
   "metadata": {},
   "source": [
    "# The mathematically perfect cappuccino\n",
    "Getting the perfect foam cap on your home-made cappuccino can be a difficult task for any coffee-lover. Both the height of the foam cap and the rate of decay are difficult to predict ahead of time. Using multilevel modelling we can estimate your coffee's foam height."
   ]
  },
  {
   "cell_type": "code",
   "execution_count": 2,
   "metadata": {},
   "outputs": [],
   "source": [
    "import numpy as np\n",
    "import math\n",
    "import matplotlib.pyplot as plt\n",
    "from scipy import optimize, integrate\n",
    "import pints"
   ]
  },
  {
   "attachments": {},
   "cell_type": "markdown",
   "metadata": {},
   "source": [
    "## Background: foam formation in milky coffees\n",
    "Water does not normally form a stable foam, as bubbles rapidly coalesce in order to minimise the surface area - and so the surface tension - of the water. Foam on milk is formed because proteins in milk act as a surfactant which lowers the surface tension of the liquid. This surfactant effect slows the coalescence of bubbles which would normally happen, and so allows bubbles to form which coalesce relatively slowly. In a cup of milky coffee, these bubbles form a foam cap on top of the coffee, which slowly decays in volume as bubbles within the foam coalesce (see https://doi.org/10.1111/j.1471-0307.2010.00629.x).\n",
    "\n",
    "A reasonable initial model for the height of the foam in the coffee cup seems to be an ordinary differential equation (equation 1). This model assumes that the decay of foam height over time, $\\frac{d h}{d t}$, reduces proportionally to the height of the foam, $h$. This seems reasonable as the number of bubbles should be proportional to the volume (and so height) of the foam.\n",
    "\n",
    "\\begin{equation}\n",
    "\\frac{d h}{d t} = -k \\cdot h\n",
    "\\tag{1}\n",
    "\\end{equation}\n",
    "\n",
    "Using this model, the predicted foam height is shown below for an initial foam height of 1cm and a decay rate of 1."
   ]
  },
  {
   "cell_type": "code",
   "execution_count": 13,
   "metadata": {
    "tags": []
   },
   "outputs": [
    {
     "data": {
      "image/png": "[encoded data removed]",
      "text/plain": [
       "<Figure size 640x480 with 1 Axes>"
      ]
     },
     "metadata": {},
     "output_type": "display_data"
    }
   ],
   "source": [
    "# Parameters\n",
    "k = 1\n",
    "times = np.linspace(0,10,50)\n",
    "\n",
    "# A one-compartment PK model is basically an ODE for an exponential decay curve\n",
    "def onecomp(y, t, k):\n",
    "    \"\"\"A one-compartment PK model, aka simple exponential decay\n",
    "    In\n",
    "    y: y-axis value\n",
    "    t: x-axis value\n",
    "    k: gradient parameter\n",
    "    \n",
    "    Out: gradient at the given point\n",
    "    \"\"\"\n",
    "    dydt = -k * y\n",
    "    return dydt\n",
    "\n",
    "# You can solve ODEs with scipy.integrate.odeint\n",
    "def simulate(func, parameters, y0, times):\n",
    "    \"\"\"Numerically calculate an ODE\n",
    "    In\n",
    "    func: function giving the derivative\n",
    "    parameters: parameters the function requires as input\n",
    "    y0: y at t=0\n",
    "    times: array of times at which to calculate y\n",
    "    \n",
    "    Out: array of y values at corresponding points in times\n",
    "    \"\"\"\n",
    "    l = integrate.odeint(func, y0, times, (parameters,)) # returns a list of lists\n",
    "    flatlist = [item for sublist in l for item in sublist] # to single list of 'y's\n",
    "    return flatlist\n",
    "\n",
    "# This is what the system output looks like. We don't actually know these values\n",
    "actual_values = simulate(onecomp, k, 1, times)\n",
    "\n",
    "# Plot the model results\n",
    "plt.figure()\n",
    "plt.xlabel('Time, $t$ (minutes)')\n",
    "plt.ylabel('Foam height, $h$ (cm)')\n",
    "plt.ylim(0,1)\n",
    "plt.xlim(0,10)\n",
    "plt.plot(times, actual_values, '--', label='Foam height with k=1')\n",
    "plt.legend()\n",
    "plt.show()"
   ]
  },
  {
   "attachments": {},
   "cell_type": "markdown",
   "metadata": {},
   "source": [
    "In this model, two variables dictate the behaviour of the foam: the rate of decay, $k$, and the initial foam height, $h_0$. Ordinarily it is difficult to predict either of these values before we have foamed the milk for our coffee. Because of this, we do not know ahead of time whether our coffee will be the perfect cappuccino or a damp, foamless squib. However, if we know certain initial conditions, such as milk type and age, then it may be possible to predict foam behaviour, and so to know whether our coffee foam will be good, bad, or perfect. "
   ]
  },
  {
   "attachments": {},
   "cell_type": "markdown",
   "metadata": {},
   "source": [
    "## Maximum Likelihood Estimation\n",
    "For a single cup of coffee we can measure the height of the foam at time $t$. We can use this to estimate the parameters $k$ and $h_0$ but each measurement is not perfect - there will be some error between the observed height and its actual value.\n",
    "\n",
    "_Maximum Likelihood Estimation_ uses a likelihood, defined by the modeller, to estimate the set of parameters most likely to have produced a given, measured set of data. It does this by comparing output from a proposed model to noisy data from the real system: the proposed model that gives the closest output to measured data is said to have the ‘maximum likelihood’. Using Maximum Likelihood Estimation and our observed measurements, we can pinpoint the most likely value of parameters $k$ and $h_0$.\n",
    "\n",
    "For example, the following example shows a set of measurements that was taken from a single coffee, and the best parameter estimates."
   ]
  },
  {
   "cell_type": "code",
   "execution_count": null,
   "metadata": {},
   "outputs": [],
   "source": [
    "# Make noisy data that we're inferring from. noisy_data is known to us.\n",
    "noise = np.random.normal(0, 0.03, len(actual_values))\n",
    "noisy_data = actual_values + noise\n",
    "plt.figure()\n",
    "plt.plot(times, noisy_data, '.', label='Measured values (we know these)')\n",
    "plt.plot(times, actual_values, label='Actual values (we don\\'t know these)')\n",
    "plt.xlabel('Time')\n",
    "plt.ylabel('Concentration')\n",
    "plt.legend()\n",
    "plt.show()"
   ]
  },
  {
   "attachments": {},
   "cell_type": "markdown",
   "metadata": {},
   "source": []
  }
 ],
 "metadata": {
  "kernelspec": {
   "display_name": "cappuccino",
   "language": "python",
   "name": "python3"
  },
  "language_info": {
   "codemirror_mode": {
    "name": "ipython",
    "version": 3
   },
   "file_extension": ".py",
   "mimetype": "text/x-python",
   "name": "python",
   "nbconvert_exporter": "python",
   "pygments_lexer": "ipython3",
   "version": "3.10.11"
  },
  "orig_nbformat": 4
 },
 "nbformat": 4,
 "nbformat_minor": 2
}
